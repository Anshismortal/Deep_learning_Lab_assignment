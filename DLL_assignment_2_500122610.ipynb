{
  "cells": [
    {
      "cell_type": "markdown",
      "metadata": {},
      "source": [
        "1: Import Libraries & Load Dataset"
      ]
    },
    {
      "cell_type": "code",
      "execution_count": 27,
      "metadata": {
        "colab": {
          "base_uri": "https://localhost:8080/"
        },
        "id": "YSXory-A1T4p",
        "outputId": "5caf7be2-f19c-438c-a6a6-fa5a91fc3150"
      },
      "outputs": [
        {
          "name": "stdout",
          "output_type": "stream",
          "text": [
            "Preview of dataset:\n",
            "   Order        PID  MS SubClass MS Zoning  Lot Frontage  Lot Area Street  \\\n",
            "0      1  526301100           20        RL         141.0     31770   Pave   \n",
            "1      2  526350040           20        RH          80.0     11622   Pave   \n",
            "2      3  526351010           20        RL          81.0     14267   Pave   \n",
            "3      4  526353030           20        RL          93.0     11160   Pave   \n",
            "4      5  527105010           60        RL          74.0     13830   Pave   \n",
            "\n",
            "  Alley Lot Shape Land Contour  ... Pool Area Pool QC  Fence Misc Feature  \\\n",
            "0   NaN       IR1          Lvl  ...         0     NaN    NaN          NaN   \n",
            "1   NaN       Reg          Lvl  ...         0     NaN  MnPrv          NaN   \n",
            "2   NaN       IR1          Lvl  ...         0     NaN    NaN         Gar2   \n",
            "3   NaN       Reg          Lvl  ...         0     NaN    NaN          NaN   \n",
            "4   NaN       IR1          Lvl  ...         0     NaN  MnPrv          NaN   \n",
            "\n",
            "  Misc Val Mo Sold Yr Sold Sale Type  Sale Condition  SalePrice  \n",
            "0        0       5    2010       WD           Normal     215000  \n",
            "1        0       6    2010       WD           Normal     105000  \n",
            "2    12500       6    2010       WD           Normal     172000  \n",
            "3        0       4    2010       WD           Normal     244000  \n",
            "4        0       3    2010       WD           Normal     189900  \n",
            "\n",
            "[5 rows x 82 columns]\n",
            "\n",
            "Shape of dataset: (2930, 82)\n"
          ]
        }
      ],
      "source": [
        "import pandas as pd\n",
        "import numpy as np\n",
        "import matplotlib.pyplot as plt\n",
        "from sklearn.model_selection import train_test_split, cross_val_score\n",
        "from sklearn.preprocessing import StandardScaler, OneHotEncoder\n",
        "from sklearn.compose import ColumnTransformer\n",
        "from sklearn.pipeline import Pipeline\n",
        "from sklearn.impute import SimpleImputer\n",
        "from sklearn.metrics import mean_absolute_error, mean_squared_error, r2_score\n",
        "from sklearn.linear_model import LinearRegression\n",
        "from sklearn.tree import DecisionTreeRegressor\n",
        "from sklearn.ensemble import RandomForestRegressor, GradientBoostingRegressor\n",
        "\n",
        "df = pd.read_csv(\"/content/AmesHousing.csv\")\n",
        "\n",
        "print(\"Preview of dataset:\")\n",
        "print(df.head())\n",
        "print(\"\\nShape of dataset:\", df.shape)\n"
      ]
    },
    {
      "cell_type": "markdown",
      "metadata": {},
      "source": [
        "2: Separate features and target variable"
      ]
    },
    {
      "cell_type": "code",
      "execution_count": 15,
      "metadata": {
        "colab": {
          "base_uri": "https://localhost:8080/"
        },
        "id": "K0NwGfaq1aXO",
        "outputId": "7d27c4a8-2053-454e-9539-771aea6ddba1"
      },
      "outputs": [
        {
          "name": "stdout",
          "output_type": "stream",
          "text": [
            "Target variable: SalePrice\n",
            "Number of features: 81\n"
          ]
        }
      ],
      "source": [
        "y = df[\"SalePrice\"]\n",
        "X = df.drop(\"SalePrice\", axis=1)\n",
        "\n",
        "print(\"Target variable:\", y.name)\n",
        "print(\"Number of features:\", X.shape[1])\n"
      ]
    },
    {
      "cell_type": "markdown",
      "metadata": {},
      "source": [
        "3: Define preprocessing for numerical and categorical features"
      ]
    },
    {
      "cell_type": "code",
      "execution_count": 16,
      "metadata": {
        "colab": {
          "base_uri": "https://localhost:8080/"
        },
        "id": "u9E_-3QY1d_S",
        "outputId": "36918477-7f3a-4dd2-a0a9-ccf179072386"
      },
      "outputs": [
        {
          "name": "stdout",
          "output_type": "stream",
          "text": [
            "Number of numeric features: 38\n",
            "Number of categorical features: 43\n"
          ]
        }
      ],
      "source": [
        "num_features = X.select_dtypes(include=[\"int64\",\"float64\"]).columns\n",
        "cat_features = X.select_dtypes(include=[\"object\"]).columns\n",
        "\n",
        "numeric_transformer = Pipeline(steps=[\n",
        "    (\"imputer\", SimpleImputer(strategy=\"median\")),\n",
        "    (\"scaler\", StandardScaler())\n",
        "])\n",
        "\n",
        "categorical_transformer = Pipeline(steps=[\n",
        "    (\"imputer\", SimpleImputer(strategy=\"most_frequent\")),\n",
        "    (\"onehot\", OneHotEncoder(handle_unknown=\"ignore\"))\n",
        "])\n",
        "\n",
        "preprocessor = ColumnTransformer(\n",
        "    transformers=[\n",
        "        (\"num\", numeric_transformer, num_features),\n",
        "        (\"cat\", categorical_transformer, cat_features)\n",
        "    ])\n",
        "\n",
        "print(\"Number of numeric features:\", len(num_features))\n",
        "print(\"Number of categorical features:\", len(cat_features))\n"
      ]
    },
    {
      "cell_type": "markdown",
      "metadata": {},
      "source": [
        "4: Split the data into training and testing sets"
      ]
    },
    {
      "cell_type": "code",
      "execution_count": 17,
      "metadata": {
        "colab": {
          "base_uri": "https://localhost:8080/"
        },
        "id": "bcHgw4oA1i2o",
        "outputId": "438b4186-255a-437c-c0ab-d39a1bbe048f"
      },
      "outputs": [
        {
          "name": "stdout",
          "output_type": "stream",
          "text": [
            "Training set size: (2344, 81)\n",
            "Testing set size: (586, 81)\n"
          ]
        }
      ],
      "source": [
        "X_train, X_test, y_train, y_test = train_test_split(\n",
        "    X, y, test_size=0.2, random_state=42\n",
        ")\n",
        "\n",
        "print(\"Training set size:\", X_train.shape)\n",
        "print(\"Testing set size:\", X_test.shape)\n"
      ]
    },
    {
      "cell_type": "markdown",
      "metadata": {},
      "source": [
        "5: Train Models & Collect Results"
      ]
    },
    {
      "cell_type": "code",
      "execution_count": 28,
      "metadata": {
        "colab": {
          "base_uri": "https://localhost:8080/"
        },
        "id": "vzKRpUhB1mrU",
        "outputId": "7c6f77cb-9e46-4626-a7df-774673747833"
      },
      "outputs": [
        {
          "name": "stdout",
          "output_type": "stream",
          "text": [
            " Linear Regression completed\n",
            " Decision Tree completed\n",
            " Random Forest completed\n",
            " Gradient Boosting completed\n",
            "\n",
            "Model Performance Comparison:\n",
            "                            MAE          RMSE  R2 (Test)  R2 (CV Mean)\n",
            "Linear Regression  16034.107897  29635.358986   0.890458      0.858727\n",
            "Decision Tree      24311.766212  35482.291138   0.842970      0.771311\n",
            "Random Forest      15909.680734  26423.780102   0.912914      0.886281\n",
            "Gradient Boosting  15278.078121  26730.799579   0.910879      0.909827\n"
          ]
        }
      ],
      "source": [
        "models = {\n",
        "    \"Linear Regression\": LinearRegression(),\n",
        "    \"Decision Tree\": DecisionTreeRegressor(random_state=42),\n",
        "    \"Random Forest\": RandomForestRegressor(random_state=42, n_estimators=100),\n",
        "    \"Gradient Boosting\": GradientBoostingRegressor(random_state=42, n_estimators=100)\n",
        "}\n",
        "\n",
        "results = {}\n",
        "\n",
        "for name, model in models.items():\n",
        "    pipe = Pipeline(steps=[(\"preprocessor\", preprocessor),\n",
        "                           (\"model\", model)])\n",
        "\n",
        "    pipe.fit(X_train, y_train)\n",
        "    y_pred = pipe.predict(X_test)\n",
        "\n",
        "    mae = mean_absolute_error(y_test, y_pred)\n",
        "    rmse = mean_squared_error(y_test, y_pred)\n",
        "    r2 = r2_score(y_test, y_pred)\n",
        "\n",
        "    cv_scores = cross_val_score(pipe, X, y, cv=5, scoring=\"r2\")\n",
        "    cv_mean = cv_scores.mean()\n",
        "\n",
        "    results[name] = {\"MAE\": mae, \"RMSE\": np.sqrt(rmse), \"R2 (Test)\": r2, \"R2 (CV Mean)\": cv_mean} # Calculate RMSE from MSE\n",
        "    print(f\" {name} completed\")\n",
        "\n",
        "results_df = pd.DataFrame(results).T\n",
        "print(\"\\nModel Performance Comparison:\")\n",
        "print(results_df)"
      ]
    },
    {
      "cell_type": "markdown",
      "metadata": {},
      "source": [
        "6: Visualization"
      ]
    },
    {
      "cell_type": "code",
      "execution_count": 21,
      "metadata": {
        "colab": {
          "base_uri": "https://localhost:8080/",
          "height": 507
        },
        "id": "_DGM6ykt4Jts",
        "outputId": "036b7a2e-02a5-427a-8bab-64fa682e570a"
      },
      "outputs": [
        {
          "data": {
            "image/png": "[encoded data removed]",
            "text/plain": [
              "<Figure size 800x500 with 1 Axes>"
            ]
          },
          "metadata": {},
          "output_type": "display_data"
        }
      ],
      "source": [
        "results_df[[\"R2 (Test)\", \"R2 (CV Mean)\"]].plot(kind=\"bar\", figsize=(8,5))\n",
        "plt.title(\"Model Performance (R² Scores)\")\n",
        "plt.ylabel(\"Score\")\n",
        "plt.xticks(rotation=45)\n",
        "plt.ylim(0, 1)\n",
        "plt.legend(loc=\"lower right\")\n",
        "plt.tight_layout()\n",
        "plt.show()\n"
      ]
    }
  ],
  "metadata": {
    "colab": {
      "provenance": []
    },
    "kernelspec": {
      "display_name": "Python 3",
      "name": "python3"
    },
    "language_info": {
      "name": "python"
    }
  },
  "nbformat": 4,
  "nbformat_minor": 0
}
