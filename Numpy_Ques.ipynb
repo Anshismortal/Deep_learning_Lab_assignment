{
  "cells": [
    {
      "cell_type": "markdown",
      "metadata": {
        "id": "5YNIISPploTY"
      },
      "source": [
        "_____\n",
        "**Write a program to create an array [10, 5, 7, 20, 15, -9, 33], print it, Find the maximum and minimum Value of the array**"
      ]
    },
    {
      "cell_type": "code",
      "execution_count": 1,
      "metadata": {
        "id": "LGwQ0y0wloTY"
      },
      "outputs": [
        {
          "name": "stdout",
          "output_type": "stream",
          "text": [
            "Array: [10  4  7 20 15 -9 33]\n",
            "Maximum value: 33\n",
            "Minimum value: -9\n"
          ]
        }
      ],
      "source": [
        "import numpy as np\n",
        "\n",
        "# Create array\n",
        "arr = np.array([10, 4, 7, 20, 15, -9, 33])\n",
        "\n",
        "# Print array\n",
        "print(\"Array:\", arr)\n",
        "\n",
        "# Find maximum and minimum\n",
        "print(\"Maximum value:\", np.max(arr))\n",
        "print(\"Minimum value:\", np.min(arr))\n"
      ]
    },
    {
      "cell_type": "markdown",
      "metadata": {
        "id": "CjKQrl4ZloTY"
      },
      "source": [
        "______\n",
        "**Write a program to accept an array of elements and find the maximum without using max function**"
      ]
    },
    {
      "cell_type": "code",
      "execution_count": null,
      "metadata": {
        "id": "jFqGo32uloTY"
      },
      "outputs": [
        {
          "name": "stdout",
          "output_type": "stream",
          "text": [
            "Enter numbers one by one. Type 'done' when you are finished.\n"
          ]
        }
      ],
      "source": [
        "def find_maximum(arr):\n",
        "    if not arr:\n",
        "        return None\n",
        "\n",
        "    max_value = arr[0]\n",
        "\n",
        "    for element in arr[1:]:\n",
        "        if element > max_value:\n",
        "            max_value = element\n",
        "\n",
        "    return max_value\n",
        "\n",
        "user_array = []\n",
        "print(\"Enter numbers one by one. Type 'done' when you are finished.\")\n",
        "\n",
        "while True:\n",
        "    user_input = input(\"Enter a number: \")\n",
        "    if user_input.lower() == 'done':\n",
        "        break\n",
        "    try:\n",
        "        number = float(user_input)\n",
        "        user_array.append(number)\n",
        "    except ValueError:\n",
        "        print(\"Invalid input. Please enter a valid number or 'done'.\")\n",
        "\n",
        "result = find_maximum(user_array)\n",
        "\n",
        "if result is not None:\n",
        "    print(\"\\nThe elements you entered are:\", user_array)\n",
        "    print(\"The maximum value in the array is:\", result)"
      ]
    },
    {
      "cell_type": "markdown",
      "metadata": {
        "id": "V1Tbn_avloTY"
      },
      "source": [
        "___\n",
        "**Write a program to accept two matrices [[1,2],[3,4]],   [[2,4],[6,8]]and find the sum and subtraction of two matrices**"
      ]
    },
    {
      "cell_type": "code",
      "execution_count": 1,
      "metadata": {
        "id": "jyu705aKloTZ"
      },
      "outputs": [
        {
          "name": "stdout",
          "output_type": "stream",
          "text": [
            "Matrix A:\n",
            " [[1 2]\n",
            " [3 4]]\n",
            "Matrix B:\n",
            " [[2 4]\n",
            " [6 8]]\n",
            "Sum of matrices:\n",
            " [[ 3  6]\n",
            " [ 9 12]]\n",
            "Subtraction of matrices:\n",
            " [[-1 -2]\n",
            " [-3 -4]]\n"
          ]
        }
      ],
      "source": [
        "import numpy as np\n",
        "\n",
        "# Define matrices\n",
        "A = np.array([[1, 2], [3, 4]])\n",
        "B = np.array([[2, 4], [6, 8]])\n",
        "\n",
        "# Sum of matrices\n",
        "sum_matrix = A + B\n",
        "\n",
        "# Subtraction of matrices\n",
        "sub_matrix = A - B\n",
        "\n",
        "# Print results\n",
        "print(\"Matrix A:\\n\", A)\n",
        "print(\"Matrix B:\\n\", B)\n",
        "print(\"Sum of matrices:\\n\", sum_matrix)\n",
        "print(\"Subtraction of matrices:\\n\", sub_matrix)\n"
      ]
    },
    {
      "cell_type": "markdown",
      "metadata": {
        "id": "e8iqIwlxloTZ"
      },
      "source": [
        "___\n",
        "**Write a program to generate a ranodom matrix of size 5 X 6. Add another row containing random elements to it. Find the sum of each row.**"
      ]
    },
    {
      "cell_type": "code",
      "execution_count": 2,
      "metadata": {
        "id": "RFvvJzj3loTZ"
      },
      "outputs": [
        {
          "name": "stdout",
          "output_type": "stream",
          "text": [
            "Original 5x6 Matrix:\n",
            "[[38 90 79  4 41 66]\n",
            " [38 77 62  1 60 27]\n",
            " [49 36 19 30 79  3]\n",
            " [58 40 41 39 15 15]\n",
            " [83 35 89  3 13 61]]\n",
            "------------------------------\n",
            "Matrix with new row added:\n",
            "[[38 90 79  4 41 66]\n",
            " [38 77 62  1 60 27]\n",
            " [49 36 19 30 79  3]\n",
            " [58 40 41 39 15 15]\n",
            " [83 35 89  3 13 61]\n",
            " [64 48 60 54 18 42]]\n",
            "------------------------------\n",
            "Sum of each row:\n",
            "Sum of Row 1: 318\n",
            "Sum of Row 2: 265\n",
            "Sum of Row 3: 216\n",
            "Sum of Row 4: 208\n",
            "Sum of Row 5: 284\n",
            "Sum of Row 6: 286\n"
          ]
        }
      ],
      "source": [
        "import numpy as np\n",
        "\n",
        "initial_matrix = np.random.randint(0, 100, size=(5, 6))\n",
        "\n",
        "print(\"Original 5x6 Matrix:\")\n",
        "print(initial_matrix)\n",
        "print(\"-\" * 30)\n",
        "\n",
        "new_row = np.random.randint(0, 100, size=(1, 6))\n",
        "updated_matrix = np.vstack([initial_matrix, new_row])\n",
        "\n",
        "print(\"Matrix with new row added:\")\n",
        "print(updated_matrix)\n",
        "print(\"-\" * 30)\n",
        "\n",
        "print(\"Sum of each row:\")\n",
        "for i, row in enumerate(updated_matrix):\n",
        "    row_sum = np.sum(row)\n",
        "    print(f\"Sum of Row {i + 1}: {row_sum}\")\n"
      ]
    },
    {
      "cell_type": "markdown",
      "metadata": {
        "id": "CIhpDElPloTZ"
      },
      "source": [
        "___\n",
        "**Write a program to generate a ranodm integer matrix of size 5 X 6. Add another column containing random integers to it. Compute the sine of each element and print it**"
      ]
    },
    {
      "cell_type": "code",
      "execution_count": 3,
      "metadata": {
        "id": "HXJgYMTDloTZ"
      },
      "outputs": [
        {
          "name": "stdout",
          "output_type": "stream",
          "text": [
            "Matrix after adding one column (shape (5, 7)):\n",
            " [[8 8 9 9 1 1 4]\n",
            " [8 2 8 3 8 1 6]\n",
            " [0 0 6 0 7 4 3]\n",
            " [1 4 1 8 4 9 1]\n",
            " [3 2 1 6 2 3 5]]\n",
            "\n",
            "Sine of each element (same shape):\n",
            " [[ 0.98935825  0.98935825  0.41211849  0.41211849  0.84147098  0.84147098\n",
            "  -0.7568025 ]\n",
            " [ 0.98935825  0.90929743  0.98935825  0.14112001  0.98935825  0.84147098\n",
            "  -0.2794155 ]\n",
            " [ 0.          0.         -0.2794155   0.          0.6569866  -0.7568025\n",
            "   0.14112001]\n",
            " [ 0.84147098 -0.7568025   0.84147098  0.98935825 -0.7568025   0.41211849\n",
            "   0.84147098]\n",
            " [ 0.14112001  0.90929743  0.84147098 -0.2794155   0.90929743  0.14112001\n",
            "  -0.95892427]]\n"
          ]
        }
      ],
      "source": [
        "import numpy as np\n",
        "\n",
        "original_matrix = np.random.randint(low=0, high=10, size=(5, 6))\n",
        "\n",
        "extra_column = np.random.randint(low=0, high=10, size=(5, 1))\n",
        "\n",
        "matrix_with_extra_column = np.hstack([original_matrix, extra_column])\n",
        "\n",
        "sine_matrix = np.sin(matrix_with_extra_column)\n",
        "\n",
        "print(\"Matrix after adding one column (shape {}):\\n\".format(matrix_with_extra_column.shape), matrix_with_extra_column)\n",
        "print(\"\\nSine of each element (same shape):\\n\", sine_matrix)\n"
      ]
    },
    {
      "cell_type": "markdown",
      "metadata": {
        "id": "-St006l8loTZ"
      },
      "source": [
        "___\n",
        "**Write a program to generate a ranodm matrix of size 5 X 6. Consider the 3rd and 4th row; and 2nd, 3rd and 4th column and print the resultant matrix using slicing**"
      ]
    },
    {
      "cell_type": "code",
      "execution_count": 4,
      "metadata": {
        "id": "SUSwF0zRloTZ"
      },
      "outputs": [
        {
          "name": "stdout",
          "output_type": "stream",
          "text": [
            "Original Matrix:\n",
            " [[5 5 9 4 0 5]\n",
            " [2 2 4 1 4 9]\n",
            " [7 4 0 9 0 1]\n",
            " [5 4 2 6 7 8]\n",
            " [8 7 3 6 2 4]]\n",
            "\n",
            "Sliced Matrix:\n",
            " [[4 0 9]\n",
            " [4 2 6]]\n"
          ]
        }
      ],
      "source": [
        "import numpy as np\n",
        "\n",
        "matrix = np.random.randint(0, 10, (5, 6))\n",
        "result = matrix[2:4, 1:4]\n",
        "\n",
        "print(\"Original Matrix:\\n\", matrix)\n",
        "print(\"\\nSliced Matrix:\\n\", result)\n"
      ]
    },
    {
      "cell_type": "markdown",
      "metadata": {
        "id": "np6xZQWTloTa"
      },
      "source": [
        "### Great Job!"
      ]
    }
  ],
  "metadata": {
    "colab": {
      "provenance": []
    },
    "kernelspec": {
      "display_name": "Python 3",
      "language": "python",
      "name": "python3"
    },
    "language_info": {
      "codemirror_mode": {
        "name": "ipython",
        "version": 3
      },
      "file_extension": ".py",
      "mimetype": "text/x-python",
      "name": "python",
      "nbconvert_exporter": "python",
      "pygments_lexer": "ipython3",
      "version": "3.12.2"
    }
  },
  "nbformat": 4,
  "nbformat_minor": 0
}
